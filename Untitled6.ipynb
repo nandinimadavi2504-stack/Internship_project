{
  "nbformat": 4,
  "nbformat_minor": 0,
  "metadata": {
    "colab": {
      "provenance": [],
      "authorship_tag": "ABX9TyMEFoY+zU9R3CBrmioaYzl6",
      "include_colab_link": true
    },
    "kernelspec": {
      "name": "python3",
      "display_name": "Python 3"
    },
    "language_info": {
      "name": "python"
    }
  },
  "cells": [
    {
      "cell_type": "markdown",
      "metadata": {
        "id": "view-in-github",
        "colab_type": "text"
      },
      "source": [
        "<a href=\"https://colab.research.google.com/github/nandinimadavi2504-stack/Internship_project/blob/main/Untitled6.ipynb\" target=\"_parent\"><img src=\"https://colab.research.google.com/assets/colab-badge.svg\" alt=\"Open In Colab\"/></a>"
      ]
    },
    {
      "cell_type": "code",
      "execution_count": 1,
      "metadata": {
        "colab": {
          "base_uri": "https://localhost:8080/"
        },
        "id": "nOnj4lRb2-Y1",
        "outputId": "930bfe38-9a15-4268-edec-6ea7206f6696"
      },
      "outputs": [
        {
          "output_type": "stream",
          "name": "stdout",
          "text": [
            "Bitcoin price in USD: 108821\n",
            "Ethereum price in INR: 395301\n"
          ]
        }
      ],
      "source": [
        "import requests\n",
        "\n",
        "# Function to get crypto price\n",
        "def get_crypto_price(crypto=\"bitcoin\", currency=\"usd\"):\n",
        "    url = f\"https://api.coingecko.com/api/v3/simple/price?ids={crypto}&vs_currencies={currency}\"\n",
        "\n",
        "    try:\n",
        "        response = requests.get(url)\n",
        "        response.raise_for_status()  # check if request was successful\n",
        "        data = response.json()\n",
        "\n",
        "        if crypto in data:\n",
        "            price = data[crypto][currency]\n",
        "            return f\"{crypto.capitalize()} price in {currency.upper()}: {price}\"\n",
        "        else:\n",
        "            return \"Crypto or currency not found.\"\n",
        "\n",
        "    except Exception as e:\n",
        "        return f\"Error: {e}\"\n",
        "\n",
        "# Example usage\n",
        "print(get_crypto_price(\"bitcoin\", \"usd\"))\n",
        "print(get_crypto_price(\"ethereum\", \"inr\"))\n"
      ]
    }
  ]
}